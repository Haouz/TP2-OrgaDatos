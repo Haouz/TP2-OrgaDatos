{
 "cells": [
  {
   "cell_type": "code",
   "execution_count": 2,
   "metadata": {
    "collapsed": false,
    "nbpresent": {
     "id": "30fee297-244a-4e86-8c21-110b3b1224f1"
    }
   },
   "outputs": [
    {
     "name": "stdout",
     "output_type": "stream",
     "text": [
      "Shape of file number 1:  (155437, 27)\n",
      "Shape of file number 2:  (187482, 27)\n",
      "Data column information of dataframes: \n",
      "\n",
      "\n",
      "<class 'pandas.core.frame.DataFrame'>\n",
      "RangeIndex: 155437 entries, 0 to 155436\n",
      "Data columns (total 27 columns):\n",
      "id                            155437 non-null object\n",
      "created_on                    155437 non-null object\n",
      "operation                     155437 non-null object\n",
      "property_type                 155437 non-null object\n",
      "place_name                    155422 non-null object\n",
      "place_with_parent_names       155437 non-null object\n",
      "country_name                  155437 non-null object\n",
      "state_name                    155437 non-null object\n",
      "geonames_id                   130411 non-null float64\n",
      "lat-lon                       124928 non-null object\n",
      "lat                           124928 non-null float64\n",
      "lon                           124928 non-null float64\n",
      "price                         126705 non-null float64\n",
      "currency                      126705 non-null object\n",
      "price_aprox_local_currency    126705 non-null float64\n",
      "price_aprox_usd               126705 non-null float64\n",
      "surface_total_in_m2           108630 non-null float64\n",
      "surface_covered_in_m2         128690 non-null float64\n",
      "price_usd_per_m2              85031 non-null float64\n",
      "price_per_m2                  108311 non-null float64\n",
      "floor                         14449 non-null float64\n",
      "rooms                         94199 non-null float64\n",
      "expenses                      13387 non-null float64\n",
      "properati_url                 155437 non-null object\n",
      "description                   155428 non-null object\n",
      "title                         155437 non-null object\n",
      "image_thumbnail               153051 non-null object\n",
      "dtypes: float64(13), object(14)\n",
      "memory usage: 32.0+ MB\n"
     ]
    },
    {
     "data": {
      "text/html": [
       "<div>\n",
       "<table border=\"1\" class=\"dataframe\">\n",
       "  <thead>\n",
       "    <tr style=\"text-align: right;\">\n",
       "      <th></th>\n",
       "      <th>id</th>\n",
       "      <th>created_on</th>\n",
       "      <th>operation</th>\n",
       "      <th>property_type</th>\n",
       "      <th>place_name</th>\n",
       "      <th>place_with_parent_names</th>\n",
       "      <th>country_name</th>\n",
       "      <th>state_name</th>\n",
       "      <th>geonames_id</th>\n",
       "      <th>lat-lon</th>\n",
       "      <th>...</th>\n",
       "      <th>surface_covered_in_m2</th>\n",
       "      <th>price_usd_per_m2</th>\n",
       "      <th>price_per_m2</th>\n",
       "      <th>floor</th>\n",
       "      <th>rooms</th>\n",
       "      <th>expenses</th>\n",
       "      <th>properati_url</th>\n",
       "      <th>description</th>\n",
       "      <th>title</th>\n",
       "      <th>image_thumbnail</th>\n",
       "    </tr>\n",
       "  </thead>\n",
       "  <tbody>\n",
       "    <tr>\n",
       "      <th>0</th>\n",
       "      <td>c8a66ee9e3da083ab66dacd165e8a5cc718b1cf2</td>\n",
       "      <td>2012-09-19</td>\n",
       "      <td>sell</td>\n",
       "      <td>house</td>\n",
       "      <td>San Antonio De Padua</td>\n",
       "      <td>|Argentina|Bs.As. G.B.A. Zona Oeste|Merlo|San ...</td>\n",
       "      <td>Argentina</td>\n",
       "      <td>Bs.As. G.B.A. Zona Oeste</td>\n",
       "      <td>3429244.0</td>\n",
       "      <td>-34.6767385,-58.6931729</td>\n",
       "      <td>...</td>\n",
       "      <td>93.0</td>\n",
       "      <td>360.36036</td>\n",
       "      <td>1290.322581</td>\n",
       "      <td>NaN</td>\n",
       "      <td>NaN</td>\n",
       "      <td>NaN</td>\n",
       "      <td>http://www.properati.com.ar/udh_venta_casa_mer...</td>\n",
       "      <td>CASA CON LOCAL EN VENTA EN PADUA.2 DORMITORIOS...</td>\n",
       "      <td>CASA EN VENTA</td>\n",
       "      <td>https://thumbs4.properati.com/9/eiiRS7i9mNVJ4z...</td>\n",
       "    </tr>\n",
       "    <tr>\n",
       "      <th>1</th>\n",
       "      <td>b5855f668564f20f90ed1eb958dd34cba9615b00</td>\n",
       "      <td>2012-10-10</td>\n",
       "      <td>sell</td>\n",
       "      <td>apartment</td>\n",
       "      <td>Villa Crespo</td>\n",
       "      <td>|Argentina|Capital Federal|Villa Crespo|</td>\n",
       "      <td>Argentina</td>\n",
       "      <td>Capital Federal</td>\n",
       "      <td>3427458.0</td>\n",
       "      <td>-34.5977627867,-58.4373484535</td>\n",
       "      <td>...</td>\n",
       "      <td>40.0</td>\n",
       "      <td>1987.50000</td>\n",
       "      <td>1987.500000</td>\n",
       "      <td>1.0</td>\n",
       "      <td>2.0</td>\n",
       "      <td>300.0</td>\n",
       "      <td>http://www.properati.com.ar/13tz_venta_departa...</td>\n",
       "      <td>2 AMBIENTES, VENTA, VILLA CRESPO1ER PISO POR E...</td>\n",
       "      <td>DEPARTAMENTO EN VENTA</td>\n",
       "      <td>https://thumbs4.properati.com/5/acRNGPkpLgWzKG...</td>\n",
       "    </tr>\n",
       "    <tr>\n",
       "      <th>2</th>\n",
       "      <td>a205c53378e7879cf7519659317fb410c060d20e</td>\n",
       "      <td>2012-10-22</td>\n",
       "      <td>sell</td>\n",
       "      <td>house</td>\n",
       "      <td>San Antonio De Padua</td>\n",
       "      <td>|Argentina|Bs.As. G.B.A. Zona Oeste|Merlo|San ...</td>\n",
       "      <td>Argentina</td>\n",
       "      <td>Bs.As. G.B.A. Zona Oeste</td>\n",
       "      <td>3429244.0</td>\n",
       "      <td>-34.6679135,-58.69881</td>\n",
       "      <td>...</td>\n",
       "      <td>220.0</td>\n",
       "      <td>1000.00000</td>\n",
       "      <td>1000.000000</td>\n",
       "      <td>NaN</td>\n",
       "      <td>NaN</td>\n",
       "      <td>NaN</td>\n",
       "      <td>http://www.properati.com.ar/20hi_venta_casa_me...</td>\n",
       "      <td>CHALET VENTA 4 AMBIENTES PADUA.EXCELENTE CHALE...</td>\n",
       "      <td>CASA EN VENTA</td>\n",
       "      <td>https://thumbs4.properati.com/3/4RXmjtz4SiihFX...</td>\n",
       "    </tr>\n",
       "    <tr>\n",
       "      <th>3</th>\n",
       "      <td>e06d6f864a0b91346594da4d27ceddcef0947ea6</td>\n",
       "      <td>2012-11-01</td>\n",
       "      <td>sell</td>\n",
       "      <td>apartment</td>\n",
       "      <td>Mar del Plata</td>\n",
       "      <td>|Argentina|Buenos Aires Costa Atlántica|Mar de...</td>\n",
       "      <td>Argentina</td>\n",
       "      <td>Buenos Aires Costa Atlántica</td>\n",
       "      <td>3430863.0</td>\n",
       "      <td>-38.0199509,-57.5265733</td>\n",
       "      <td>...</td>\n",
       "      <td>42.0</td>\n",
       "      <td>NaN</td>\n",
       "      <td>NaN</td>\n",
       "      <td>NaN</td>\n",
       "      <td>2.0</td>\n",
       "      <td>NaN</td>\n",
       "      <td>http://www.properati.com.ar/336o_venta_departa...</td>\n",
       "      <td>DTO. 2 AMB. C/ VISTA PLENA AL  6 X 3DOMITORIO ...</td>\n",
       "      <td>DTO. 2 AMB. C/ VISTA PLENA AL MAR</td>\n",
       "      <td>https://thumbs4.properati.com/5/VjDOdzm9n8uqZu...</td>\n",
       "    </tr>\n",
       "    <tr>\n",
       "      <th>4</th>\n",
       "      <td>a07927207d2a03de5f4ba7fd76f670d6285a3315</td>\n",
       "      <td>2012-11-26</td>\n",
       "      <td>sell</td>\n",
       "      <td>house</td>\n",
       "      <td>Sierra de los Padres</td>\n",
       "      <td>|Argentina|Buenos Aires Interior|General Pueyr...</td>\n",
       "      <td>Argentina</td>\n",
       "      <td>Buenos Aires Interior</td>\n",
       "      <td>3427958.0</td>\n",
       "      <td>-37.9511934894,-57.7752885836</td>\n",
       "      <td>...</td>\n",
       "      <td>265.0</td>\n",
       "      <td>NaN</td>\n",
       "      <td>NaN</td>\n",
       "      <td>NaN</td>\n",
       "      <td>6.0</td>\n",
       "      <td>NaN</td>\n",
       "      <td>http://www.properati.com.ar/47hc_venta_terreno...</td>\n",
       "      <td>PROPIEDAD DE CATEGORIA CUENTA CON: 4 DORMITOR...</td>\n",
       "      <td>CHALET EN VENTA</td>\n",
       "      <td>https://thumbs4.properati.com/9/DA4GMdxXrthh5z...</td>\n",
       "    </tr>\n",
       "  </tbody>\n",
       "</table>\n",
       "<p>5 rows × 27 columns</p>\n",
       "</div>"
      ],
      "text/plain": [
       "                                         id  created_on operation  \\\n",
       "0  c8a66ee9e3da083ab66dacd165e8a5cc718b1cf2  2012-09-19      sell   \n",
       "1  b5855f668564f20f90ed1eb958dd34cba9615b00  2012-10-10      sell   \n",
       "2  a205c53378e7879cf7519659317fb410c060d20e  2012-10-22      sell   \n",
       "3  e06d6f864a0b91346594da4d27ceddcef0947ea6  2012-11-01      sell   \n",
       "4  a07927207d2a03de5f4ba7fd76f670d6285a3315  2012-11-26      sell   \n",
       "\n",
       "  property_type            place_name  \\\n",
       "0         house  San Antonio De Padua   \n",
       "1     apartment          Villa Crespo   \n",
       "2         house  San Antonio De Padua   \n",
       "3     apartment         Mar del Plata   \n",
       "4         house  Sierra de los Padres   \n",
       "\n",
       "                             place_with_parent_names country_name  \\\n",
       "0  |Argentina|Bs.As. G.B.A. Zona Oeste|Merlo|San ...    Argentina   \n",
       "1           |Argentina|Capital Federal|Villa Crespo|    Argentina   \n",
       "2  |Argentina|Bs.As. G.B.A. Zona Oeste|Merlo|San ...    Argentina   \n",
       "3  |Argentina|Buenos Aires Costa Atlántica|Mar de...    Argentina   \n",
       "4  |Argentina|Buenos Aires Interior|General Pueyr...    Argentina   \n",
       "\n",
       "                     state_name  geonames_id                        lat-lon  \\\n",
       "0      Bs.As. G.B.A. Zona Oeste    3429244.0        -34.6767385,-58.6931729   \n",
       "1               Capital Federal    3427458.0  -34.5977627867,-58.4373484535   \n",
       "2      Bs.As. G.B.A. Zona Oeste    3429244.0          -34.6679135,-58.69881   \n",
       "3  Buenos Aires Costa Atlántica    3430863.0        -38.0199509,-57.5265733   \n",
       "4         Buenos Aires Interior    3427958.0  -37.9511934894,-57.7752885836   \n",
       "\n",
       "                         ...                          surface_covered_in_m2  \\\n",
       "0                        ...                                           93.0   \n",
       "1                        ...                                           40.0   \n",
       "2                        ...                                          220.0   \n",
       "3                        ...                                           42.0   \n",
       "4                        ...                                          265.0   \n",
       "\n",
       "   price_usd_per_m2  price_per_m2 floor  rooms  expenses  \\\n",
       "0         360.36036   1290.322581   NaN    NaN       NaN   \n",
       "1        1987.50000   1987.500000   1.0    2.0     300.0   \n",
       "2        1000.00000   1000.000000   NaN    NaN       NaN   \n",
       "3               NaN           NaN   NaN    2.0       NaN   \n",
       "4               NaN           NaN   NaN    6.0       NaN   \n",
       "\n",
       "                                       properati_url  \\\n",
       "0  http://www.properati.com.ar/udh_venta_casa_mer...   \n",
       "1  http://www.properati.com.ar/13tz_venta_departa...   \n",
       "2  http://www.properati.com.ar/20hi_venta_casa_me...   \n",
       "3  http://www.properati.com.ar/336o_venta_departa...   \n",
       "4  http://www.properati.com.ar/47hc_venta_terreno...   \n",
       "\n",
       "                                         description  \\\n",
       "0  CASA CON LOCAL EN VENTA EN PADUA.2 DORMITORIOS...   \n",
       "1  2 AMBIENTES, VENTA, VILLA CRESPO1ER PISO POR E...   \n",
       "2  CHALET VENTA 4 AMBIENTES PADUA.EXCELENTE CHALE...   \n",
       "3  DTO. 2 AMB. C/ VISTA PLENA AL  6 X 3DOMITORIO ...   \n",
       "4   PROPIEDAD DE CATEGORIA CUENTA CON: 4 DORMITOR...   \n",
       "\n",
       "                               title  \\\n",
       "0                      CASA EN VENTA   \n",
       "1              DEPARTAMENTO EN VENTA   \n",
       "2                      CASA EN VENTA   \n",
       "3  DTO. 2 AMB. C/ VISTA PLENA AL MAR   \n",
       "4                   CHALET EN VENTA    \n",
       "\n",
       "                                     image_thumbnail  \n",
       "0  https://thumbs4.properati.com/9/eiiRS7i9mNVJ4z...  \n",
       "1  https://thumbs4.properati.com/5/acRNGPkpLgWzKG...  \n",
       "2  https://thumbs4.properati.com/3/4RXmjtz4SiihFX...  \n",
       "3  https://thumbs4.properati.com/5/VjDOdzm9n8uqZu...  \n",
       "4  https://thumbs4.properati.com/9/DA4GMdxXrthh5z...  \n",
       "\n",
       "[5 rows x 27 columns]"
      ]
     },
     "execution_count": 2,
     "metadata": {},
     "output_type": "execute_result"
    }
   ],
   "source": [
    "import pandas as pd\n",
    "import matplotlib.pyplot as plt\n",
    "import statsmodels.nonparametric.smoothers_lowess as lw\n",
    "import numpy as np\n",
    "import warnings\n",
    "warnings.filterwarnings('ignore')\n",
    "\n",
    "df1 = pd.read_csv(\"properati1.csv\")\n",
    "df2 = pd.read_csv(\"properati2.csv\")\n",
    "\n",
    "print(\"Shape of file number 1: \",df1.shape)\n",
    "print(\"Shape of file number 2: \",df2.shape)\n",
    "\n",
    "print(\"Data column information of dataframes: \")\n",
    "print(\"\\n\")\n",
    "df1.info()\n",
    "df1.head()"
   ]
  },
  {
   "cell_type": "code",
   "execution_count": 3,
   "metadata": {
    "collapsed": false,
    "nbpresent": {
     "id": "a2b7fde3-c6cf-4913-abfc-d313d374499c"
    }
   },
   "outputs": [
    {
     "name": "stdout",
     "output_type": "stream",
     "text": [
      "Null values for each dataframe: \n",
      "\n",
      "id                                 0\n",
      "created_on                         0\n",
      "operation                          0\n",
      "property_type                      0\n",
      "place_name                        15\n",
      "place_with_parent_names            0\n",
      "country_name                       0\n",
      "state_name                         0\n",
      "geonames_id                    25026\n",
      "lat-lon                        30509\n",
      "lat                            30509\n",
      "lon                            30509\n",
      "price                          28732\n",
      "currency                       28732\n",
      "price_aprox_local_currency     28732\n",
      "price_aprox_usd                28732\n",
      "surface_total_in_m2            46807\n",
      "surface_covered_in_m2          26747\n",
      "price_usd_per_m2               70406\n",
      "price_per_m2                   47126\n",
      "floor                         140988\n",
      "rooms                          61238\n",
      "expenses                      142050\n",
      "properati_url                      0\n",
      "description                        9\n",
      "title                              0\n",
      "image_thumbnail                 2386\n",
      "dtype: int64\n",
      "\n",
      "\n",
      "id                                 0\n",
      "created_on                         0\n",
      "operation                          0\n",
      "property_type                      0\n",
      "place_name                        35\n",
      "place_with_parent_names            0\n",
      "country_name                       0\n",
      "state_name                         0\n",
      "geonames_id                    29164\n",
      "lat-lon                        68721\n",
      "lat                            68721\n",
      "lon                            68721\n",
      "price                          33039\n",
      "currency                       33041\n",
      "price_aprox_local_currency     33039\n",
      "price_aprox_usd                33039\n",
      "surface_total_in_m2            62455\n",
      "surface_covered_in_m2          35062\n",
      "price_usd_per_m2               82458\n",
      "price_per_m2                   55817\n",
      "floor                         173188\n",
      "rooms                         107162\n",
      "expenses                      169962\n",
      "properati_url                      0\n",
      "description                        9\n",
      "title                              0\n",
      "image_thumbnail                 4668\n",
      "dtype: int64\n"
     ]
    }
   ],
   "source": [
    "print(\"Null values for each dataframe: \\n\")\n",
    "print(df1.isnull().sum())\n",
    "df1[\"price_per_m2\"] = df1[\"price_per_m2\"].fillna(value=0)\n",
    "df1[\"lat\"] = df1[\"lat\"].fillna(value=0)\n",
    "df1[\"lon\"] = df1[\"lon\"].fillna(value=0)\n",
    "print(\"\\n\")\n",
    "print(df2.isnull().sum())"
   ]
  },
  {
   "cell_type": "code",
   "execution_count": 4,
   "metadata": {
    "collapsed": false,
    "nbpresent": {
     "id": "7890fcfb-192a-4a34-8760-0c0b5b2c456f"
    }
   },
   "outputs": [
    {
     "data": {
      "text/html": [
       "<div>\n",
       "<table border=\"1\" class=\"dataframe\">\n",
       "  <thead>\n",
       "    <tr style=\"text-align: right;\">\n",
       "      <th></th>\n",
       "      <th>geonames_id</th>\n",
       "      <th>lat</th>\n",
       "      <th>lon</th>\n",
       "      <th>price</th>\n",
       "      <th>price_aprox_local_currency</th>\n",
       "      <th>price_aprox_usd</th>\n",
       "      <th>surface_total_in_m2</th>\n",
       "      <th>surface_covered_in_m2</th>\n",
       "      <th>price_usd_per_m2</th>\n",
       "      <th>price_per_m2</th>\n",
       "      <th>floor</th>\n",
       "      <th>rooms</th>\n",
       "      <th>expenses</th>\n",
       "    </tr>\n",
       "  </thead>\n",
       "  <tbody>\n",
       "    <tr>\n",
       "      <th>count</th>\n",
       "      <td>1.304110e+05</td>\n",
       "      <td>155437.000000</td>\n",
       "      <td>155437.000000</td>\n",
       "      <td>1.267050e+05</td>\n",
       "      <td>1.267050e+05</td>\n",
       "      <td>1.267050e+05</td>\n",
       "      <td>108630.000000</td>\n",
       "      <td>1.286900e+05</td>\n",
       "      <td>8.503100e+04</td>\n",
       "      <td>1.554370e+05</td>\n",
       "      <td>14449.000000</td>\n",
       "      <td>94199.000000</td>\n",
       "      <td>1.338700e+04</td>\n",
       "    </tr>\n",
       "    <tr>\n",
       "      <th>mean</th>\n",
       "      <td>3.553748e+06</td>\n",
       "      <td>-27.936031</td>\n",
       "      <td>-47.608722</td>\n",
       "      <td>3.940559e+05</td>\n",
       "      <td>4.143605e+06</td>\n",
       "      <td>2.492844e+05</td>\n",
       "      <td>312.571398</td>\n",
       "      <td>1.568753e+04</td>\n",
       "      <td>1.961147e+03</td>\n",
       "      <td>3.637883e+03</td>\n",
       "      <td>15.966572</td>\n",
       "      <td>3.099492</td>\n",
       "      <td>5.062150e+03</td>\n",
       "    </tr>\n",
       "    <tr>\n",
       "      <th>std</th>\n",
       "      <td>3.769420e+05</td>\n",
       "      <td>13.932710</td>\n",
       "      <td>23.621199</td>\n",
       "      <td>8.057945e+05</td>\n",
       "      <td>6.283052e+06</td>\n",
       "      <td>3.779961e+05</td>\n",
       "      <td>2214.440410</td>\n",
       "      <td>5.575164e+06</td>\n",
       "      <td>5.087101e+03</td>\n",
       "      <td>1.819236e+04</td>\n",
       "      <td>123.339966</td>\n",
       "      <td>1.663519</td>\n",
       "      <td>1.249897e+05</td>\n",
       "    </tr>\n",
       "    <tr>\n",
       "      <th>min</th>\n",
       "      <td>3.427208e+06</td>\n",
       "      <td>-54.833014</td>\n",
       "      <td>-72.886325</td>\n",
       "      <td>5.000000e+03</td>\n",
       "      <td>8.238893e+04</td>\n",
       "      <td>4.956620e+03</td>\n",
       "      <td>0.000000</td>\n",
       "      <td>0.000000e+00</td>\n",
       "      <td>8.000000e-02</td>\n",
       "      <td>0.000000e+00</td>\n",
       "      <td>1.000000</td>\n",
       "      <td>1.000000</td>\n",
       "      <td>1.000000e+00</td>\n",
       "    </tr>\n",
       "    <tr>\n",
       "      <th>25%</th>\n",
       "      <td>NaN</td>\n",
       "      <td>-34.661681</td>\n",
       "      <td>-58.650970</td>\n",
       "      <td>NaN</td>\n",
       "      <td>NaN</td>\n",
       "      <td>NaN</td>\n",
       "      <td>NaN</td>\n",
       "      <td>NaN</td>\n",
       "      <td>NaN</td>\n",
       "      <td>0.000000e+00</td>\n",
       "      <td>NaN</td>\n",
       "      <td>NaN</td>\n",
       "      <td>NaN</td>\n",
       "    </tr>\n",
       "    <tr>\n",
       "      <th>50%</th>\n",
       "      <td>NaN</td>\n",
       "      <td>-34.571150</td>\n",
       "      <td>-58.434005</td>\n",
       "      <td>NaN</td>\n",
       "      <td>NaN</td>\n",
       "      <td>NaN</td>\n",
       "      <td>NaN</td>\n",
       "      <td>NaN</td>\n",
       "      <td>NaN</td>\n",
       "      <td>1.529412e+03</td>\n",
       "      <td>NaN</td>\n",
       "      <td>NaN</td>\n",
       "      <td>NaN</td>\n",
       "    </tr>\n",
       "    <tr>\n",
       "      <th>75%</th>\n",
       "      <td>NaN</td>\n",
       "      <td>-31.421465</td>\n",
       "      <td>-57.544497</td>\n",
       "      <td>NaN</td>\n",
       "      <td>NaN</td>\n",
       "      <td>NaN</td>\n",
       "      <td>NaN</td>\n",
       "      <td>NaN</td>\n",
       "      <td>NaN</td>\n",
       "      <td>2.488372e+03</td>\n",
       "      <td>NaN</td>\n",
       "      <td>NaN</td>\n",
       "      <td>NaN</td>\n",
       "    </tr>\n",
       "    <tr>\n",
       "      <th>max</th>\n",
       "      <td>6.948895e+06</td>\n",
       "      <td>47.396933</td>\n",
       "      <td>19.032799</td>\n",
       "      <td>1.111111e+08</td>\n",
       "      <td>7.736784e+08</td>\n",
       "      <td>4.654544e+07</td>\n",
       "      <td>200000.000000</td>\n",
       "      <td>2.000000e+09</td>\n",
       "      <td>1.271027e+06</td>\n",
       "      <td>2.600000e+06</td>\n",
       "      <td>7071.000000</td>\n",
       "      <td>40.000000</td>\n",
       "      <td>1.000150e+07</td>\n",
       "    </tr>\n",
       "  </tbody>\n",
       "</table>\n",
       "</div>"
      ],
      "text/plain": [
       "        geonames_id            lat            lon         price  \\\n",
       "count  1.304110e+05  155437.000000  155437.000000  1.267050e+05   \n",
       "mean   3.553748e+06     -27.936031     -47.608722  3.940559e+05   \n",
       "std    3.769420e+05      13.932710      23.621199  8.057945e+05   \n",
       "min    3.427208e+06     -54.833014     -72.886325  5.000000e+03   \n",
       "25%             NaN     -34.661681     -58.650970           NaN   \n",
       "50%             NaN     -34.571150     -58.434005           NaN   \n",
       "75%             NaN     -31.421465     -57.544497           NaN   \n",
       "max    6.948895e+06      47.396933      19.032799  1.111111e+08   \n",
       "\n",
       "       price_aprox_local_currency  price_aprox_usd  surface_total_in_m2  \\\n",
       "count                1.267050e+05     1.267050e+05        108630.000000   \n",
       "mean                 4.143605e+06     2.492844e+05           312.571398   \n",
       "std                  6.283052e+06     3.779961e+05          2214.440410   \n",
       "min                  8.238893e+04     4.956620e+03             0.000000   \n",
       "25%                           NaN              NaN                  NaN   \n",
       "50%                           NaN              NaN                  NaN   \n",
       "75%                           NaN              NaN                  NaN   \n",
       "max                  7.736784e+08     4.654544e+07        200000.000000   \n",
       "\n",
       "       surface_covered_in_m2  price_usd_per_m2  price_per_m2         floor  \\\n",
       "count           1.286900e+05      8.503100e+04  1.554370e+05  14449.000000   \n",
       "mean            1.568753e+04      1.961147e+03  3.637883e+03     15.966572   \n",
       "std             5.575164e+06      5.087101e+03  1.819236e+04    123.339966   \n",
       "min             0.000000e+00      8.000000e-02  0.000000e+00      1.000000   \n",
       "25%                      NaN               NaN  0.000000e+00           NaN   \n",
       "50%                      NaN               NaN  1.529412e+03           NaN   \n",
       "75%                      NaN               NaN  2.488372e+03           NaN   \n",
       "max             2.000000e+09      1.271027e+06  2.600000e+06   7071.000000   \n",
       "\n",
       "              rooms      expenses  \n",
       "count  94199.000000  1.338700e+04  \n",
       "mean       3.099492  5.062150e+03  \n",
       "std        1.663519  1.249897e+05  \n",
       "min        1.000000  1.000000e+00  \n",
       "25%             NaN           NaN  \n",
       "50%             NaN           NaN  \n",
       "75%             NaN           NaN  \n",
       "max       40.000000  1.000150e+07  "
      ]
     },
     "execution_count": 4,
     "metadata": {},
     "output_type": "execute_result"
    }
   ],
   "source": [
    "df1.describe()"
   ]
  },
  {
   "cell_type": "code",
   "execution_count": 5,
   "metadata": {
    "collapsed": false
   },
   "outputs": [
    {
     "data": {
      "text/html": [
       "<div>\n",
       "<table border=\"1\" class=\"dataframe\">\n",
       "  <thead>\n",
       "    <tr style=\"text-align: right;\">\n",
       "      <th></th>\n",
       "      <th>geonames_id</th>\n",
       "      <th>lat</th>\n",
       "      <th>lon</th>\n",
       "      <th>price</th>\n",
       "      <th>price_aprox_local_currency</th>\n",
       "      <th>price_aprox_usd</th>\n",
       "      <th>surface_total_in_m2</th>\n",
       "      <th>surface_covered_in_m2</th>\n",
       "      <th>price_usd_per_m2</th>\n",
       "      <th>price_per_m2</th>\n",
       "      <th>floor</th>\n",
       "      <th>rooms</th>\n",
       "      <th>expenses</th>\n",
       "    </tr>\n",
       "  </thead>\n",
       "  <tbody>\n",
       "    <tr>\n",
       "      <th>count</th>\n",
       "      <td>1.583180e+05</td>\n",
       "      <td>118761.000000</td>\n",
       "      <td>118761.000000</td>\n",
       "      <td>1.544430e+05</td>\n",
       "      <td>1.544430e+05</td>\n",
       "      <td>1.544430e+05</td>\n",
       "      <td>125027.000000</td>\n",
       "      <td>152420.000000</td>\n",
       "      <td>1.050240e+05</td>\n",
       "      <td>1.316650e+05</td>\n",
       "      <td>14294.000000</td>\n",
       "      <td>80320.000000</td>\n",
       "      <td>1.752000e+04</td>\n",
       "    </tr>\n",
       "    <tr>\n",
       "      <th>mean</th>\n",
       "      <td>3.560821e+06</td>\n",
       "      <td>-34.775631</td>\n",
       "      <td>-59.207578</td>\n",
       "      <td>4.402848e+05</td>\n",
       "      <td>4.298946e+06</td>\n",
       "      <td>2.436423e+05</td>\n",
       "      <td>297.023707</td>\n",
       "      <td>146.026630</td>\n",
       "      <td>1.980865e+03</td>\n",
       "      <td>6.125528e+03</td>\n",
       "      <td>14.584301</td>\n",
       "      <td>3.087276</td>\n",
       "      <td>4.872184e+03</td>\n",
       "    </tr>\n",
       "    <tr>\n",
       "      <th>std</th>\n",
       "      <td>3.442029e+05</td>\n",
       "      <td>2.071562</td>\n",
       "      <td>2.293300</td>\n",
       "      <td>1.915257e+06</td>\n",
       "      <td>6.870371e+06</td>\n",
       "      <td>3.893775e+05</td>\n",
       "      <td>2072.795972</td>\n",
       "      <td>2617.149603</td>\n",
       "      <td>4.624897e+03</td>\n",
       "      <td>2.567322e+04</td>\n",
       "      <td>103.573137</td>\n",
       "      <td>1.754502</td>\n",
       "      <td>1.105076e+05</td>\n",
       "    </tr>\n",
       "    <tr>\n",
       "      <th>min</th>\n",
       "      <td>3.427208e+06</td>\n",
       "      <td>-54.833014</td>\n",
       "      <td>-75.678931</td>\n",
       "      <td>0.000000e+00</td>\n",
       "      <td>0.000000e+00</td>\n",
       "      <td>0.000000e+00</td>\n",
       "      <td>0.000000</td>\n",
       "      <td>0.000000</td>\n",
       "      <td>0.000000e+00</td>\n",
       "      <td>6.275958e-02</td>\n",
       "      <td>1.000000</td>\n",
       "      <td>1.000000</td>\n",
       "      <td>1.000000e+00</td>\n",
       "    </tr>\n",
       "    <tr>\n",
       "      <th>25%</th>\n",
       "      <td>NaN</td>\n",
       "      <td>NaN</td>\n",
       "      <td>NaN</td>\n",
       "      <td>NaN</td>\n",
       "      <td>NaN</td>\n",
       "      <td>NaN</td>\n",
       "      <td>NaN</td>\n",
       "      <td>NaN</td>\n",
       "      <td>NaN</td>\n",
       "      <td>NaN</td>\n",
       "      <td>NaN</td>\n",
       "      <td>NaN</td>\n",
       "      <td>NaN</td>\n",
       "    </tr>\n",
       "    <tr>\n",
       "      <th>50%</th>\n",
       "      <td>NaN</td>\n",
       "      <td>NaN</td>\n",
       "      <td>NaN</td>\n",
       "      <td>NaN</td>\n",
       "      <td>NaN</td>\n",
       "      <td>NaN</td>\n",
       "      <td>NaN</td>\n",
       "      <td>NaN</td>\n",
       "      <td>NaN</td>\n",
       "      <td>NaN</td>\n",
       "      <td>NaN</td>\n",
       "      <td>NaN</td>\n",
       "      <td>NaN</td>\n",
       "    </tr>\n",
       "    <tr>\n",
       "      <th>75%</th>\n",
       "      <td>NaN</td>\n",
       "      <td>NaN</td>\n",
       "      <td>NaN</td>\n",
       "      <td>NaN</td>\n",
       "      <td>NaN</td>\n",
       "      <td>NaN</td>\n",
       "      <td>NaN</td>\n",
       "      <td>NaN</td>\n",
       "      <td>NaN</td>\n",
       "      <td>NaN</td>\n",
       "      <td>NaN</td>\n",
       "      <td>NaN</td>\n",
       "      <td>NaN</td>\n",
       "    </tr>\n",
       "    <tr>\n",
       "      <th>max</th>\n",
       "      <td>6.948895e+06</td>\n",
       "      <td>4.545843</td>\n",
       "      <td>-40.149218</td>\n",
       "      <td>6.500000e+08</td>\n",
       "      <td>8.212711e+08</td>\n",
       "      <td>4.654544e+07</td>\n",
       "      <td>200000.000000</td>\n",
       "      <td>987897.000000</td>\n",
       "      <td>1.271027e+06</td>\n",
       "      <td>4.000000e+06</td>\n",
       "      <td>3150.000000</td>\n",
       "      <td>40.000000</td>\n",
       "      <td>1.000150e+07</td>\n",
       "    </tr>\n",
       "  </tbody>\n",
       "</table>\n",
       "</div>"
      ],
      "text/plain": [
       "        geonames_id            lat            lon         price  \\\n",
       "count  1.583180e+05  118761.000000  118761.000000  1.544430e+05   \n",
       "mean   3.560821e+06     -34.775631     -59.207578  4.402848e+05   \n",
       "std    3.442029e+05       2.071562       2.293300  1.915257e+06   \n",
       "min    3.427208e+06     -54.833014     -75.678931  0.000000e+00   \n",
       "25%             NaN            NaN            NaN           NaN   \n",
       "50%             NaN            NaN            NaN           NaN   \n",
       "75%             NaN            NaN            NaN           NaN   \n",
       "max    6.948895e+06       4.545843     -40.149218  6.500000e+08   \n",
       "\n",
       "       price_aprox_local_currency  price_aprox_usd  surface_total_in_m2  \\\n",
       "count                1.544430e+05     1.544430e+05        125027.000000   \n",
       "mean                 4.298946e+06     2.436423e+05           297.023707   \n",
       "std                  6.870371e+06     3.893775e+05          2072.795972   \n",
       "min                  0.000000e+00     0.000000e+00             0.000000   \n",
       "25%                           NaN              NaN                  NaN   \n",
       "50%                           NaN              NaN                  NaN   \n",
       "75%                           NaN              NaN                  NaN   \n",
       "max                  8.212711e+08     4.654544e+07        200000.000000   \n",
       "\n",
       "       surface_covered_in_m2  price_usd_per_m2  price_per_m2         floor  \\\n",
       "count          152420.000000      1.050240e+05  1.316650e+05  14294.000000   \n",
       "mean              146.026630      1.980865e+03  6.125528e+03     14.584301   \n",
       "std              2617.149603      4.624897e+03  2.567322e+04    103.573137   \n",
       "min                 0.000000      0.000000e+00  6.275958e-02      1.000000   \n",
       "25%                      NaN               NaN           NaN           NaN   \n",
       "50%                      NaN               NaN           NaN           NaN   \n",
       "75%                      NaN               NaN           NaN           NaN   \n",
       "max            987897.000000      1.271027e+06  4.000000e+06   3150.000000   \n",
       "\n",
       "              rooms      expenses  \n",
       "count  80320.000000  1.752000e+04  \n",
       "mean       3.087276  4.872184e+03  \n",
       "std        1.754502  1.105076e+05  \n",
       "min        1.000000  1.000000e+00  \n",
       "25%             NaN           NaN  \n",
       "50%             NaN           NaN  \n",
       "75%             NaN           NaN  \n",
       "max       40.000000  1.000150e+07  "
      ]
     },
     "execution_count": 5,
     "metadata": {},
     "output_type": "execute_result"
    }
   ],
   "source": [
    "df2.describe()"
   ]
  },
  {
   "cell_type": "code",
   "execution_count": 6,
   "metadata": {
    "collapsed": false,
    "nbpresent": {
     "id": "827869e5-2fdc-457a-a603-6b2dbd787aaa"
    },
    "scrolled": false
   },
   "outputs": [
    {
     "name": "stdout",
     "output_type": "stream",
     "text": [
      "Median of price_aprox_usd is: 149000.0\n",
      "Median of price_usd_per_m2 is: 1627.906976744186\n",
      "Median of price_aprox_usd is: 145000.0\n",
      "Median of price_usd_per_m2 is: 1675.0\n"
     ]
    },
    {
     "data": {
      "text/plain": [
       "'Done'"
      ]
     },
     "execution_count": 6,
     "metadata": {},
     "output_type": "execute_result"
    },
    {
     "data": {
      "image/png": "[encoded data removed]",
      "text/plain": [
       "<matplotlib.figure.Figure at 0x10e08ee10>"
      ]
     },
     "metadata": {},
     "output_type": "display_data"
    },
    {
     "data": {
      "image/png": "[encoded data removed]",
      "text/plain": [
       "<matplotlib.figure.Figure at 0x105edaf98>"
      ]
     },
     "metadata": {},
     "output_type": "display_data"
    },
    {
     "data": {
      "image/png": "[encoded data removed]",
      "text/plain": [
       "<matplotlib.figure.Figure at 0x11e932e10>"
      ]
     },
     "metadata": {},
     "output_type": "display_data"
    },
    {
     "data": {
      "image/png": "[encoded data removed]",
      "text/plain": [
       "<matplotlib.figure.Figure at 0x11f45aa58>"
      ]
     },
     "metadata": {},
     "output_type": "display_data"
    }
   ],
   "source": [
    "%matplotlib inline\n",
    "\n",
    "def properati_hist(df, cols):\n",
    "    for col in cols:\n",
    "        fig = plt.figure(figsize=(6, 4))\n",
    "        fig.clf()\n",
    "        ax = fig.gca()\n",
    "        ax.set_xlabel(col)\n",
    "        ax.set_ylabel('Density of ' + col)\n",
    "        \n",
    "        print(\"Median of\",col,\"is:\",df[col].median())\n",
    "        x = df[col]\n",
    "        bins = np.linspace(1,df[col].median()+1000, 100)\n",
    "        x.hist(bins = bins, ax = ax)\n",
    "    return 'Done'\n",
    "\n",
    "hist_cols = [\"price_aprox_usd\", \"price_usd_per_m2\"]\n",
    "properati_hist(df1, hist_cols)\n",
    "properati_hist(df2, hist_cols)"
   ]
  },
  {
   "cell_type": "code",
   "execution_count": 7,
   "metadata": {
    "collapsed": false,
    "nbpresent": {
     "id": "f539d3bc-9be5-4e1c-b3a1-ecc55655d533"
    },
    "scrolled": false
   },
   "outputs": [
    {
     "data": {
      "text/plain": [
       "id                                0\n",
       "created_on                        0\n",
       "operation                         0\n",
       "property_type                     0\n",
       "place_name                        0\n",
       "place_with_parent_names           0\n",
       "country_name                      0\n",
       "state_name                        0\n",
       "geonames_id                   25026\n",
       "lat-lon                       30509\n",
       "lat                               0\n",
       "lon                               0\n",
       "price                             0\n",
       "currency                      28732\n",
       "price_aprox_local_currency    28732\n",
       "price_aprox_usd               28732\n",
       "surface_total_in_m2               0\n",
       "surface_covered_in_m2             0\n",
       "price_usd_per_m2              70406\n",
       "price_per_m2                      0\n",
       "floor                             0\n",
       "rooms                             0\n",
       "expenses                          0\n",
       "properati_url                     0\n",
       "description                       9\n",
       "title                             0\n",
       "image_thumbnail                2386\n",
       "date                              0\n",
       "dtype: int64"
      ]
     },
     "execution_count": 7,
     "metadata": {},
     "output_type": "execute_result"
    }
   ],
   "source": [
    "#import math as m\n",
    "#liste = []\n",
    "#for lat, lon in zip(df1['lat'], df1['lon']):\n",
    "#    liste.append(6367*m.acos(\\\n",
    "#    (m.sin(-34.608007)*m.sin(lat))+\\\n",
    "#    (m.cos(-34.608007)*m.cos(lat)*m.cos(-58.369268-lon))\\\n",
    "#    ))\n",
    "#df1['distance_from_center'] = liste\n",
    "#df1['distance_from_center'].head() \n",
    "import datetime as dt\n",
    "\n",
    "df1['created_on'] = pd.to_datetime(df1['created_on'], format='%Y-%m-%d')\n",
    "df1['date'] = df1['created_on'].dt.year\n",
    "\n",
    "predictors = ['date', 'property_type','place_name', 'state_name' , 'surface_total_in_m2','surface_covered_in_m2', 'price_per_m2', 'floor', 'rooms', 'expenses']  \n",
    "\n",
    "for col in predictors: # Loop through all columns in predictors\n",
    "    if df1[col].dtype == 'object':  # check if column's type is object (text)\n",
    "        df1[col] = pd.Categorical(df1[col]).codes  # convert text to numerical\n",
    "\n",
    "\n",
    "df1['price'] = df1['price'].fillna(value=df1['price'].median())\n",
    "\n",
    "for col in predictors: # Loop through all columns in predictors\n",
    "    df1[col] = df1[col].fillna(value=df1[col].median())\n",
    "df1.isnull().sum()"
   ]
  },
  {
   "cell_type": "code",
   "execution_count": 8,
   "metadata": {
    "collapsed": false,
    "nbpresent": {
     "id": "0acb9652-8ebd-47d6-a058-27f8afb70615"
    }
   },
   "outputs": [
    {
     "data": {
      "text/html": [
       "<div>\n",
       "<table border=\"1\" class=\"dataframe\">\n",
       "  <thead>\n",
       "    <tr style=\"text-align: right;\">\n",
       "      <th></th>\n",
       "      <th>id</th>\n",
       "      <th>created_on</th>\n",
       "      <th>operation</th>\n",
       "      <th>property_type</th>\n",
       "      <th>place_name</th>\n",
       "      <th>place_with_parent_names</th>\n",
       "      <th>country_name</th>\n",
       "      <th>state_name</th>\n",
       "      <th>geonames_id</th>\n",
       "      <th>lat-lon</th>\n",
       "      <th>...</th>\n",
       "      <th>price_usd_per_m2</th>\n",
       "      <th>price_per_m2</th>\n",
       "      <th>floor</th>\n",
       "      <th>rooms</th>\n",
       "      <th>expenses</th>\n",
       "      <th>properati_url</th>\n",
       "      <th>description</th>\n",
       "      <th>title</th>\n",
       "      <th>image_thumbnail</th>\n",
       "      <th>date</th>\n",
       "    </tr>\n",
       "  </thead>\n",
       "  <tbody>\n",
       "    <tr>\n",
       "      <th>0</th>\n",
       "      <td>c8a66ee9e3da083ab66dacd165e8a5cc718b1cf2</td>\n",
       "      <td>2012-09-19</td>\n",
       "      <td>sell</td>\n",
       "      <td>2</td>\n",
       "      <td>926</td>\n",
       "      <td>|Argentina|Bs.As. G.B.A. Zona Oeste|Merlo|San ...</td>\n",
       "      <td>Argentina</td>\n",
       "      <td>1</td>\n",
       "      <td>3429244.0</td>\n",
       "      <td>-34.6767385,-58.6931729</td>\n",
       "      <td>...</td>\n",
       "      <td>360.36036</td>\n",
       "      <td>1290.322581</td>\n",
       "      <td>3.0</td>\n",
       "      <td>3.0</td>\n",
       "      <td>1800.0</td>\n",
       "      <td>http://www.properati.com.ar/udh_venta_casa_mer...</td>\n",
       "      <td>CASA CON LOCAL EN VENTA EN PADUA.2 DORMITORIOS...</td>\n",
       "      <td>CASA EN VENTA</td>\n",
       "      <td>https://thumbs4.properati.com/9/eiiRS7i9mNVJ4z...</td>\n",
       "      <td>2012</td>\n",
       "    </tr>\n",
       "    <tr>\n",
       "      <th>1</th>\n",
       "      <td>b5855f668564f20f90ed1eb958dd34cba9615b00</td>\n",
       "      <td>2012-10-10</td>\n",
       "      <td>sell</td>\n",
       "      <td>1</td>\n",
       "      <td>1111</td>\n",
       "      <td>|Argentina|Capital Federal|Villa Crespo|</td>\n",
       "      <td>Argentina</td>\n",
       "      <td>5</td>\n",
       "      <td>3427458.0</td>\n",
       "      <td>-34.5977627867,-58.4373484535</td>\n",
       "      <td>...</td>\n",
       "      <td>1987.50000</td>\n",
       "      <td>1987.500000</td>\n",
       "      <td>1.0</td>\n",
       "      <td>2.0</td>\n",
       "      <td>300.0</td>\n",
       "      <td>http://www.properati.com.ar/13tz_venta_departa...</td>\n",
       "      <td>2 AMBIENTES, VENTA, VILLA CRESPO1ER PISO POR E...</td>\n",
       "      <td>DEPARTAMENTO EN VENTA</td>\n",
       "      <td>https://thumbs4.properati.com/5/acRNGPkpLgWzKG...</td>\n",
       "      <td>2012</td>\n",
       "    </tr>\n",
       "    <tr>\n",
       "      <th>2</th>\n",
       "      <td>a205c53378e7879cf7519659317fb410c060d20e</td>\n",
       "      <td>2012-10-22</td>\n",
       "      <td>sell</td>\n",
       "      <td>2</td>\n",
       "      <td>926</td>\n",
       "      <td>|Argentina|Bs.As. G.B.A. Zona Oeste|Merlo|San ...</td>\n",
       "      <td>Argentina</td>\n",
       "      <td>1</td>\n",
       "      <td>3429244.0</td>\n",
       "      <td>-34.6679135,-58.69881</td>\n",
       "      <td>...</td>\n",
       "      <td>1000.00000</td>\n",
       "      <td>1000.000000</td>\n",
       "      <td>3.0</td>\n",
       "      <td>3.0</td>\n",
       "      <td>1800.0</td>\n",
       "      <td>http://www.properati.com.ar/20hi_venta_casa_me...</td>\n",
       "      <td>CHALET VENTA 4 AMBIENTES PADUA.EXCELENTE CHALE...</td>\n",
       "      <td>CASA EN VENTA</td>\n",
       "      <td>https://thumbs4.properati.com/3/4RXmjtz4SiihFX...</td>\n",
       "      <td>2012</td>\n",
       "    </tr>\n",
       "    <tr>\n",
       "      <th>3</th>\n",
       "      <td>e06d6f864a0b91346594da4d27ceddcef0947ea6</td>\n",
       "      <td>2012-11-01</td>\n",
       "      <td>sell</td>\n",
       "      <td>1</td>\n",
       "      <td>694</td>\n",
       "      <td>|Argentina|Buenos Aires Costa Atlántica|Mar de...</td>\n",
       "      <td>Argentina</td>\n",
       "      <td>3</td>\n",
       "      <td>3430863.0</td>\n",
       "      <td>-38.0199509,-57.5265733</td>\n",
       "      <td>...</td>\n",
       "      <td>NaN</td>\n",
       "      <td>0.000000</td>\n",
       "      <td>3.0</td>\n",
       "      <td>2.0</td>\n",
       "      <td>1800.0</td>\n",
       "      <td>http://www.properati.com.ar/336o_venta_departa...</td>\n",
       "      <td>DTO. 2 AMB. C/ VISTA PLENA AL  6 X 3DOMITORIO ...</td>\n",
       "      <td>DTO. 2 AMB. C/ VISTA PLENA AL MAR</td>\n",
       "      <td>https://thumbs4.properati.com/5/VjDOdzm9n8uqZu...</td>\n",
       "      <td>2012</td>\n",
       "    </tr>\n",
       "    <tr>\n",
       "      <th>4</th>\n",
       "      <td>a07927207d2a03de5f4ba7fd76f670d6285a3315</td>\n",
       "      <td>2012-11-26</td>\n",
       "      <td>sell</td>\n",
       "      <td>2</td>\n",
       "      <td>1012</td>\n",
       "      <td>|Argentina|Buenos Aires Interior|General Pueyr...</td>\n",
       "      <td>Argentina</td>\n",
       "      <td>4</td>\n",
       "      <td>3427958.0</td>\n",
       "      <td>-37.9511934894,-57.7752885836</td>\n",
       "      <td>...</td>\n",
       "      <td>NaN</td>\n",
       "      <td>0.000000</td>\n",
       "      <td>3.0</td>\n",
       "      <td>6.0</td>\n",
       "      <td>1800.0</td>\n",
       "      <td>http://www.properati.com.ar/47hc_venta_terreno...</td>\n",
       "      <td>PROPIEDAD DE CATEGORIA CUENTA CON: 4 DORMITOR...</td>\n",
       "      <td>CHALET EN VENTA</td>\n",
       "      <td>https://thumbs4.properati.com/9/DA4GMdxXrthh5z...</td>\n",
       "      <td>2012</td>\n",
       "    </tr>\n",
       "  </tbody>\n",
       "</table>\n",
       "<p>5 rows × 28 columns</p>\n",
       "</div>"
      ],
      "text/plain": [
       "                                         id created_on operation  \\\n",
       "0  c8a66ee9e3da083ab66dacd165e8a5cc718b1cf2 2012-09-19      sell   \n",
       "1  b5855f668564f20f90ed1eb958dd34cba9615b00 2012-10-10      sell   \n",
       "2  a205c53378e7879cf7519659317fb410c060d20e 2012-10-22      sell   \n",
       "3  e06d6f864a0b91346594da4d27ceddcef0947ea6 2012-11-01      sell   \n",
       "4  a07927207d2a03de5f4ba7fd76f670d6285a3315 2012-11-26      sell   \n",
       "\n",
       "   property_type  place_name  \\\n",
       "0              2         926   \n",
       "1              1        1111   \n",
       "2              2         926   \n",
       "3              1         694   \n",
       "4              2        1012   \n",
       "\n",
       "                             place_with_parent_names country_name  state_name  \\\n",
       "0  |Argentina|Bs.As. G.B.A. Zona Oeste|Merlo|San ...    Argentina           1   \n",
       "1           |Argentina|Capital Federal|Villa Crespo|    Argentina           5   \n",
       "2  |Argentina|Bs.As. G.B.A. Zona Oeste|Merlo|San ...    Argentina           1   \n",
       "3  |Argentina|Buenos Aires Costa Atlántica|Mar de...    Argentina           3   \n",
       "4  |Argentina|Buenos Aires Interior|General Pueyr...    Argentina           4   \n",
       "\n",
       "   geonames_id                        lat-lon  ...   price_usd_per_m2  \\\n",
       "0    3429244.0        -34.6767385,-58.6931729  ...          360.36036   \n",
       "1    3427458.0  -34.5977627867,-58.4373484535  ...         1987.50000   \n",
       "2    3429244.0          -34.6679135,-58.69881  ...         1000.00000   \n",
       "3    3430863.0        -38.0199509,-57.5265733  ...                NaN   \n",
       "4    3427958.0  -37.9511934894,-57.7752885836  ...                NaN   \n",
       "\n",
       "   price_per_m2  floor rooms  expenses  \\\n",
       "0   1290.322581    3.0   3.0    1800.0   \n",
       "1   1987.500000    1.0   2.0     300.0   \n",
       "2   1000.000000    3.0   3.0    1800.0   \n",
       "3      0.000000    3.0   2.0    1800.0   \n",
       "4      0.000000    3.0   6.0    1800.0   \n",
       "\n",
       "                                       properati_url  \\\n",
       "0  http://www.properati.com.ar/udh_venta_casa_mer...   \n",
       "1  http://www.properati.com.ar/13tz_venta_departa...   \n",
       "2  http://www.properati.com.ar/20hi_venta_casa_me...   \n",
       "3  http://www.properati.com.ar/336o_venta_departa...   \n",
       "4  http://www.properati.com.ar/47hc_venta_terreno...   \n",
       "\n",
       "                                         description  \\\n",
       "0  CASA CON LOCAL EN VENTA EN PADUA.2 DORMITORIOS...   \n",
       "1  2 AMBIENTES, VENTA, VILLA CRESPO1ER PISO POR E...   \n",
       "2  CHALET VENTA 4 AMBIENTES PADUA.EXCELENTE CHALE...   \n",
       "3  DTO. 2 AMB. C/ VISTA PLENA AL  6 X 3DOMITORIO ...   \n",
       "4   PROPIEDAD DE CATEGORIA CUENTA CON: 4 DORMITOR...   \n",
       "\n",
       "                               title  \\\n",
       "0                      CASA EN VENTA   \n",
       "1              DEPARTAMENTO EN VENTA   \n",
       "2                      CASA EN VENTA   \n",
       "3  DTO. 2 AMB. C/ VISTA PLENA AL MAR   \n",
       "4                   CHALET EN VENTA    \n",
       "\n",
       "                                     image_thumbnail  date  \n",
       "0  https://thumbs4.properati.com/9/eiiRS7i9mNVJ4z...  2012  \n",
       "1  https://thumbs4.properati.com/5/acRNGPkpLgWzKG...  2012  \n",
       "2  https://thumbs4.properati.com/3/4RXmjtz4SiihFX...  2012  \n",
       "3  https://thumbs4.properati.com/5/VjDOdzm9n8uqZu...  2012  \n",
       "4  https://thumbs4.properati.com/9/DA4GMdxXrthh5z...  2012  \n",
       "\n",
       "[5 rows x 28 columns]"
      ]
     },
     "execution_count": 8,
     "metadata": {},
     "output_type": "execute_result"
    }
   ],
   "source": [
    "\n",
    "df1.head()\n"
   ]
  },
  {
   "cell_type": "code",
   "execution_count": 9,
   "metadata": {
    "collapsed": false,
    "nbpresent": {
     "id": "d547f6cd-a1d8-472d-805f-afbe3f0cbda3"
    }
   },
   "outputs": [
    {
     "name": "stdout",
     "output_type": "stream",
     "text": [
      "training test :  (150773, 10)\n",
      "testing test :  (4664, 10) (4664,)\n"
     ]
    }
   ],
   "source": [
    "#Building the model\n",
    "y = df1.price\n",
    "X = df1[predictors]\n",
    "\n",
    "from sklearn.cross_validation import train_test_split\n",
    "X_train, X_test, y_train, y_test = train_test_split(X, y, test_size=0.03, random_state=123)\n",
    "print ('training test : ', X_train.shape)\n",
    "print ('testing test : ', X_test.shape, y_test.shape)"
   ]
  },
  {
   "cell_type": "code",
   "execution_count": 10,
   "metadata": {
    "collapsed": false,
    "nbpresent": {
     "id": "58e58f02-21a6-4d5f-b353-600618d124ef"
    }
   },
   "outputs": [
    {
     "name": "stdout",
     "output_type": "stream",
     "text": [
      "train score = 0.0929902159765\n",
      "test score =  0.150783203034\n"
     ]
    }
   ],
   "source": [
    "from sklearn.linear_model import LinearRegression\n",
    "\n",
    "reg = LinearRegression()\n",
    "reg.fit(X_train, y_train)\n",
    "train_score = reg.score(X_train, y_train)\n",
    "test_score = reg.score(X_test, y_test)\n",
    "print  ('train score =', train_score)\n",
    "print  ('test score = ', test_score)"
   ]
  },
  {
   "cell_type": "code",
   "execution_count": 11,
   "metadata": {
    "collapsed": false,
    "nbpresent": {
     "id": "b1b1023f-03d3-4ac2-b610-a3cdf8962c9a"
    }
   },
   "outputs": [
    {
     "name": "stdout",
     "output_type": "stream",
     "text": [
      "Coeffecients = [  1.56406807e+04   4.92780116e+04  -3.43235682e+00   1.70203457e+04\n",
      "   2.46923098e+01  -1.03122308e-04   9.64828707e+00   2.97186960e+02\n",
      "   3.62903607e+04   2.82189746e-02]\n",
      "Intecept = -31480680.51066665\n",
      "{'price_per_m2': 9.6482870698435725, 'floor': 297.18695991310358, 'rooms': 36290.360694878487, 'expenses': 0.028218974625832949, 'place_name': -3.4323568154157664, 'surface_total_in_m2': 24.692309839277318, 'date': 15640.680675357899, 'surface_covered_in_m2': -0.0001031223076869666, 'state_name': 17020.345739408414, 'property_type': 49278.011611526337}\n"
     ]
    }
   ],
   "source": [
    "print  ('Coeffecients = {}'.format(reg.coef_))\n",
    "print ('Intecept = {}'.format(reg.intercept_))\n",
    "print (dict(zip(X.columns,reg.coef_))) #try this if you want print also the columns names"
   ]
  },
  {
   "cell_type": "code",
   "execution_count": 11,
   "metadata": {
    "collapsed": false,
    "nbpresent": {
     "id": "f53677b4-91b6-41d0-86a7-fd328f2c4c14"
    }
   },
   "outputs": [
    {
     "name": "stdout",
     "output_type": "stream",
     "text": [
      "mse = 248008851897.0503, rmse = 498004.87135875516 \n",
      "mae = 252127.62315848502 r2 = 0.1507832030338927\n",
      "adjusted r2 each:  [ 1.36072264  1.08875707  0.15140784  1.32044891  0.14626235  0.15078322\n",
      "  0.14902243  0.09297584  1.12520482  0.15077806]\n",
      "adjusted r2:  0.148958107833\n"
     ]
    }
   ],
   "source": [
    "from sklearn.metrics import mean_squared_error\n",
    "from sklearn.metrics import mean_absolute_error\n",
    "from sklearn.metrics import r2_score\n",
    "import math\n",
    "y_pred = reg.predict(X_test)  # predict the demand for X_test\n",
    "mse = mean_squared_error(y_test, y_pred)  # Real vs predicted demand for X_test\n",
    "mae = mean_absolute_error(y_test, y_pred)\n",
    "r2 = r2_score(y_test, y_pred)\n",
    "adjusted_r2 = 1 - (1-r2)*(len(y_test)-1)/(len(y_test)-X_test.shape[1]-1)\n",
    "adjusted_r2Each = 1 - (1-r2)*(len(y_test)-1)/(len(y_test)-reg.coef_-1)\n",
    "print ('mse = {}, rmse = {} \\nmae = {} r2 = {}'.format(mse,math.sqrt(mse), mae, r2))\n",
    "print('adjusted r2 each: ', adjusted_r2Each)\n",
    "print('adjusted r2: ', adjusted_r2)"
   ]
  },
  {
   "cell_type": "code",
   "execution_count": 12,
   "metadata": {
    "collapsed": false,
    "nbpresent": {
     "id": "93d54aee-74a0-4f7c-9689-2979f890bffe"
    }
   },
   "outputs": [
    {
     "name": "stdout",
     "output_type": "stream",
     "text": [
      "0.220215005197 0.218539129429\n"
     ]
    }
   ],
   "source": [
    "from sklearn.linear_model import LinearRegression\n",
    "model = LinearRegression()\n",
    "X, y = df1[predictors], df1.price\n",
    "model.fit(X_test, y_test)\n",
    "\n",
    "# compute with statsmodels, by adding intercept manually\n",
    "import statsmodels.api as sm\n",
    "X1 = sm.add_constant(X_test)\n",
    "result = sm.OLS(y_test, X1).fit()\n",
    "\n",
    "print(result.rsquared, result.rsquared_adj)"
   ]
  },
  {
   "cell_type": "code",
   "execution_count": 13,
   "metadata": {
    "collapsed": false,
    "nbpresent": {
     "id": "bdcbf1a9-e512-4418-9178-a26bc7121e5b"
    }
   },
   "outputs": [
    {
     "data": {
      "text/html": [
       "<div>\n",
       "<table border=\"1\" class=\"dataframe\">\n",
       "  <thead>\n",
       "    <tr style=\"text-align: right;\">\n",
       "      <th></th>\n",
       "      <th>place_name</th>\n",
       "      <th>state_name</th>\n",
       "      <th>geonames_id</th>\n",
       "      <th>lat</th>\n",
       "      <th>lon</th>\n",
       "      <th>price</th>\n",
       "      <th>price_aprox_local_currency</th>\n",
       "      <th>price_aprox_usd</th>\n",
       "      <th>surface_total_in_m2</th>\n",
       "      <th>surface_covered_in_m2</th>\n",
       "      <th>price_usd_per_m2</th>\n",
       "      <th>price_per_m2</th>\n",
       "      <th>floor</th>\n",
       "      <th>rooms</th>\n",
       "      <th>expenses</th>\n",
       "      <th>date</th>\n",
       "    </tr>\n",
       "    <tr>\n",
       "      <th>property_type</th>\n",
       "      <th></th>\n",
       "      <th></th>\n",
       "      <th></th>\n",
       "      <th></th>\n",
       "      <th></th>\n",
       "      <th></th>\n",
       "      <th></th>\n",
       "      <th></th>\n",
       "      <th></th>\n",
       "      <th></th>\n",
       "      <th></th>\n",
       "      <th></th>\n",
       "      <th></th>\n",
       "      <th></th>\n",
       "      <th></th>\n",
       "      <th></th>\n",
       "    </tr>\n",
       "  </thead>\n",
       "  <tbody>\n",
       "    <tr>\n",
       "      <th>0</th>\n",
       "      <td>678.368823</td>\n",
       "      <td>3.477028</td>\n",
       "      <td>3.520406e+06</td>\n",
       "      <td>-29.671045</td>\n",
       "      <td>-49.974761</td>\n",
       "      <td>189893.713459</td>\n",
       "      <td>2.397222e+06</td>\n",
       "      <td>144219.830122</td>\n",
       "      <td>135.931605</td>\n",
       "      <td>86.619720</td>\n",
       "      <td>1653.401071</td>\n",
       "      <td>2495.106834</td>\n",
       "      <td>3.034602</td>\n",
       "      <td>3.158315</td>\n",
       "      <td>1782.973267</td>\n",
       "      <td>2016.295568</td>\n",
       "    </tr>\n",
       "    <tr>\n",
       "      <th>1</th>\n",
       "      <td>671.721081</td>\n",
       "      <td>5.215883</td>\n",
       "      <td>3.566576e+06</td>\n",
       "      <td>-29.150151</td>\n",
       "      <td>-49.455965</td>\n",
       "      <td>350200.063727</td>\n",
       "      <td>3.282190e+06</td>\n",
       "      <td>197460.564459</td>\n",
       "      <td>102.895893</td>\n",
       "      <td>90.872195</td>\n",
       "      <td>2634.050973</td>\n",
       "      <td>4754.264102</td>\n",
       "      <td>5.046814</td>\n",
       "      <td>2.630834</td>\n",
       "      <td>2210.159486</td>\n",
       "      <td>2016.350339</td>\n",
       "    </tr>\n",
       "    <tr>\n",
       "      <th>2</th>\n",
       "      <td>647.188106</td>\n",
       "      <td>3.970289</td>\n",
       "      <td>3.534249e+06</td>\n",
       "      <td>-25.789754</td>\n",
       "      <td>-44.363293</td>\n",
       "      <td>376332.537036</td>\n",
       "      <td>5.588838e+06</td>\n",
       "      <td>336231.386413</td>\n",
       "      <td>463.303158</td>\n",
       "      <td>34190.027960</td>\n",
       "      <td>1020.234382</td>\n",
       "      <td>2227.906363</td>\n",
       "      <td>3.306965</td>\n",
       "      <td>3.652752</td>\n",
       "      <td>1966.710270</td>\n",
       "      <td>2016.215845</td>\n",
       "    </tr>\n",
       "    <tr>\n",
       "      <th>3</th>\n",
       "      <td>647.301734</td>\n",
       "      <td>4.823866</td>\n",
       "      <td>3.600990e+06</td>\n",
       "      <td>-29.977409</td>\n",
       "      <td>-50.933182</td>\n",
       "      <td>423856.909443</td>\n",
       "      <td>5.975291e+06</td>\n",
       "      <td>359480.854117</td>\n",
       "      <td>306.701217</td>\n",
       "      <td>218.049428</td>\n",
       "      <td>2245.386394</td>\n",
       "      <td>3763.885005</td>\n",
       "      <td>3.009406</td>\n",
       "      <td>3.013095</td>\n",
       "      <td>1828.537440</td>\n",
       "      <td>2016.130579</td>\n",
       "    </tr>\n",
       "  </tbody>\n",
       "</table>\n",
       "</div>"
      ],
      "text/plain": [
       "               place_name  state_name   geonames_id        lat        lon  \\\n",
       "property_type                                                               \n",
       "0              678.368823    3.477028  3.520406e+06 -29.671045 -49.974761   \n",
       "1              671.721081    5.215883  3.566576e+06 -29.150151 -49.455965   \n",
       "2              647.188106    3.970289  3.534249e+06 -25.789754 -44.363293   \n",
       "3              647.301734    4.823866  3.600990e+06 -29.977409 -50.933182   \n",
       "\n",
       "                       price  price_aprox_local_currency  price_aprox_usd  \\\n",
       "property_type                                                               \n",
       "0              189893.713459                2.397222e+06    144219.830122   \n",
       "1              350200.063727                3.282190e+06    197460.564459   \n",
       "2              376332.537036                5.588838e+06    336231.386413   \n",
       "3              423856.909443                5.975291e+06    359480.854117   \n",
       "\n",
       "               surface_total_in_m2  surface_covered_in_m2  price_usd_per_m2  \\\n",
       "property_type                                                                 \n",
       "0                       135.931605              86.619720       1653.401071   \n",
       "1                       102.895893              90.872195       2634.050973   \n",
       "2                       463.303158           34190.027960       1020.234382   \n",
       "3                       306.701217             218.049428       2245.386394   \n",
       "\n",
       "               price_per_m2     floor     rooms     expenses         date  \n",
       "property_type                                                              \n",
       "0               2495.106834  3.034602  3.158315  1782.973267  2016.295568  \n",
       "1               4754.264102  5.046814  2.630834  2210.159486  2016.350339  \n",
       "2               2227.906363  3.306965  3.652752  1966.710270  2016.215845  \n",
       "3               3763.885005  3.009406  3.013095  1828.537440  2016.130579  "
      ]
     },
     "execution_count": 13,
     "metadata": {},
     "output_type": "execute_result"
    }
   ],
   "source": [
    "df1.groupby('property_type').mean()"
   ]
  },
  {
   "cell_type": "code",
   "execution_count": 14,
   "metadata": {
    "collapsed": false
   },
   "outputs": [
    {
     "name": "stdout",
     "output_type": "stream",
     "text": [
      "Index(['id', 'created_on', 'operation', 'property_type', 'place_name',\n",
      "       'place_with_parent_names', 'country_name', 'state_name', 'geonames_id',\n",
      "       'lat-lon', 'lat', 'lon', 'price', 'currency',\n",
      "       'price_aprox_local_currency', 'price_aprox_usd', 'surface_total_in_m2',\n",
      "       'surface_covered_in_m2', 'price_usd_per_m2', 'price_per_m2', 'floor',\n",
      "       'rooms', 'expenses', 'properati_url', 'description', 'title',\n",
      "       'image_thumbnail', 'date'],\n",
      "      dtype='object')\n"
     ]
    }
   ],
   "source": [
    "predictors = ['date', 'property_type','place_name', 'state_name' , 'surface_total_in_m2','surface_covered_in_m2', 'price_per_m2', 'floor', 'rooms', 'expenses']\n",
    "print(df1.columns)\n",
    "#Select the important predictors to fit the model"
   ]
  },
  {
   "cell_type": "code",
   "execution_count": 15,
   "metadata": {
    "collapsed": false
   },
   "outputs": [
    {
     "name": "stdout",
     "output_type": "stream",
     "text": [
      "Index(['property_type', 'place_name', 'state_name', 'surface_total_in_m2',\n",
      "       'surface_covered_in_m2', 'price_usd_per_m2', 'price_per_m2', 'floor',\n",
      "       'rooms', 'expenses', 'date'],\n",
      "      dtype='object')\n"
     ]
    }
   ],
   "source": [
    "#Convert string data into float/int data\n",
    "#foreach column used\n",
    "X = df1.drop(['price','lat','price_aprox_local_currency', 'price_aprox_usd', 'lon','id','created_on','operation','place_with_parent_names','country_name','geonames_id','image_thumbnail','title','description','properati_url','currency','lat-lon'], axis=1, inplace = False)# your code here\n",
    "#cols_to_transform = [ 'place_name', 'state_name']\n",
    "#df1 = pd.get_dummies( df1, columns = cols_to_transform )\n",
    "print(X.columns)"
   ]
  },
  {
   "cell_type": "code",
   "execution_count": 12,
   "metadata": {
    "collapsed": false
   },
   "outputs": [],
   "source": [
    "y = df1.price\n",
    "#X = df1.drop(['price','id','created_on','operation','image_thumbnail','title','description','properati_url','currency','lat-lon'], axis=1, inplace = False)# your code here\n",
    "#print (X.columns)\n",
    "for col in X:\n",
    "    X[col] = X[col].fillna(value=0)"
   ]
  },
  {
   "cell_type": "code",
   "execution_count": 13,
   "metadata": {
    "collapsed": false
   },
   "outputs": [
    {
     "name": "stdout",
     "output_type": "stream",
     "text": [
      "train shape (108805, 10) (108805,)\n",
      "test shape (46632, 10) (46632,)\n"
     ]
    }
   ],
   "source": [
    "from sklearn.cross_validation import train_test_split\n",
    "X_train, X_test, y_train, y_test = train_test_split(X, y, test_size=0.3, random_state=123)\n",
    "\n",
    "print (\"train shape\", X_train.shape, y_train.shape)\n",
    "print (\"test shape\", X_test.shape, y_test.shape)"
   ]
  },
  {
   "cell_type": "code",
   "execution_count": null,
   "metadata": {
    "collapsed": false
   },
   "outputs": [],
   "source": [
    "from sklearn.linear_model import LogisticRegression\n",
    "\n",
    "clf = LogisticRegression(random_state=123)\n",
    "clf.fit(X_train, y_train)\n",
    "\n",
    "train_score = clf.score(X_train, y_train)\n",
    "test_score = clf.score(X_test, y_test)\n",
    "\n",
    "print ('train accuracy =', train_score)\n",
    "print ('test accuracy =', test_score)"
   ]
  },
  {
   "cell_type": "code",
   "execution_count": null,
   "metadata": {
    "collapsed": false
   },
   "outputs": [],
   "source": [
    "y_pred = clf.predict(X_test)\n",
    "from sklearn import metrics\n",
    "mat_conf=metrics.confusion_matrix(y_test, y_pred)\n",
    "print (mat_conf)"
   ]
  },
  {
   "cell_type": "code",
   "execution_count": null,
   "metadata": {
    "collapsed": true
   },
   "outputs": [],
   "source": []
  }
 ],
 "metadata": {
  "anaconda-cloud": {},
  "celltoolbar": "Raw Cell Format",
  "kernelspec": {
   "display_name": "Python [default]",
   "language": "python",
   "name": "python3"
  },
  "language_info": {
   "codemirror_mode": {
    "name": "ipython",
    "version": 3
   },
   "file_extension": ".py",
   "mimetype": "text/x-python",
   "name": "python",
   "nbconvert_exporter": "python",
   "pygments_lexer": "ipython3",
   "version": "3.5.2"
  },
  "nbpresent": {
   "slides": {
    "2870a58a-8057-4413-8be2-a29facd54b26": {
     "id": "2870a58a-8057-4413-8be2-a29facd54b26",
     "prev": null,
     "regions": {}
    }
   },
   "themes": {
    "default": "7c97f879-8f39-4a90-8756-2e6eb0b8ffc7",
    "theme": {
     "3069dcdf-1058-4233-a049-c23d655dd578": {
      "id": "3069dcdf-1058-4233-a049-c23d655dd578",
      "palette": {
       "19cc588f-0593-49c9-9f4b-e4d7cc113b1c": {
        "id": "19cc588f-0593-49c9-9f4b-e4d7cc113b1c",
        "rgb": [
         252,
         252,
         252
        ]
       },
       "31af15d2-7e15-44c5-ab5e-e04b16a89eff": {
        "id": "31af15d2-7e15-44c5-ab5e-e04b16a89eff",
        "rgb": [
         68,
         68,
         68
        ]
       },
       "50f92c45-a630-455b-aec3-788680ec7410": {
        "id": "50f92c45-a630-455b-aec3-788680ec7410",
        "rgb": [
         155,
         177,
         192
        ]
       },
       "c5cc3653-2ee1-402a-aba2-7caae1da4f6c": {
        "id": "c5cc3653-2ee1-402a-aba2-7caae1da4f6c",
        "rgb": [
         43,
         126,
         184
        ]
       },
       "efa7f048-9acb-414c-8b04-a26811511a21": {
        "id": "efa7f048-9acb-414c-8b04-a26811511a21",
        "rgb": [
         25.118061674008803,
         73.60176211453744,
         107.4819383259912
        ]
       }
      },
      "rules": {
       "blockquote": {
        "color": "50f92c45-a630-455b-aec3-788680ec7410"
       },
       "code": {
        "font-family": "Anonymous Pro"
       },
       "h1": {
        "color": "c5cc3653-2ee1-402a-aba2-7caae1da4f6c",
        "font-family": "Lato",
        "font-size": 8
       },
       "h2": {
        "color": "c5cc3653-2ee1-402a-aba2-7caae1da4f6c",
        "font-family": "Lato",
        "font-size": 6
       },
       "h3": {
        "color": "50f92c45-a630-455b-aec3-788680ec7410",
        "font-family": "Lato",
        "font-size": 5.5
       },
       "h4": {
        "color": "c5cc3653-2ee1-402a-aba2-7caae1da4f6c",
        "font-family": "Lato",
        "font-size": 5
       },
       "h5": {
        "font-family": "Lato"
       },
       "h6": {
        "font-family": "Lato"
       },
       "h7": {
        "font-family": "Lato"
       },
       "pre": {
        "font-family": "Anonymous Pro",
        "font-size": 4
       }
      },
      "text-base": {
       "font-family": "Merriweather",
       "font-size": 4
      }
     },
     "7c97f879-8f39-4a90-8756-2e6eb0b8ffc7": {
      "id": "7c97f879-8f39-4a90-8756-2e6eb0b8ffc7",
      "palette": {
       "19cc588f-0593-49c9-9f4b-e4d7cc113b1c": {
        "id": "19cc588f-0593-49c9-9f4b-e4d7cc113b1c",
        "rgb": [
         252,
         252,
         252
        ]
       },
       "31af15d2-7e15-44c5-ab5e-e04b16a89eff": {
        "id": "31af15d2-7e15-44c5-ab5e-e04b16a89eff",
        "rgb": [
         68,
         68,
         68
        ]
       },
       "50f92c45-a630-455b-aec3-788680ec7410": {
        "id": "50f92c45-a630-455b-aec3-788680ec7410",
        "rgb": [
         155,
         177,
         192
        ]
       },
       "c5cc3653-2ee1-402a-aba2-7caae1da4f6c": {
        "id": "c5cc3653-2ee1-402a-aba2-7caae1da4f6c",
        "rgb": [
         43,
         126,
         184
        ]
       },
       "efa7f048-9acb-414c-8b04-a26811511a21": {
        "id": "efa7f048-9acb-414c-8b04-a26811511a21",
        "rgb": [
         25.118061674008803,
         73.60176211453744,
         107.4819383259912
        ]
       }
      },
      "rules": {
       "blockquote": {
        "color": "50f92c45-a630-455b-aec3-788680ec7410"
       },
       "code": {
        "font-family": "Anonymous Pro"
       },
       "h1": {
        "color": "c5cc3653-2ee1-402a-aba2-7caae1da4f6c",
        "font-family": "Lato",
        "font-size": 8
       },
       "h2": {
        "color": "c5cc3653-2ee1-402a-aba2-7caae1da4f6c",
        "font-family": "Lato",
        "font-size": 6
       },
       "h3": {
        "color": "50f92c45-a630-455b-aec3-788680ec7410",
        "font-family": "Lato",
        "font-size": 5.5
       },
       "h4": {
        "color": "c5cc3653-2ee1-402a-aba2-7caae1da4f6c",
        "font-family": "Lato",
        "font-size": 5
       },
       "h5": {
        "font-family": "Lato"
       },
       "h6": {
        "font-family": "Lato"
       },
       "h7": {
        "font-family": "Lato"
       },
       "pre": {
        "font-family": "Anonymous Pro",
        "font-size": 4
       }
      },
      "text-base": {
       "font-family": "Merriweather",
       "font-size": 4
      }
     },
     "aee8a4f2-6650-4ae5-81a2-ed1ed80c98b0": {
      "backgrounds": {
       "dc7afa04-bf90-40b1-82a5-726e3cff5267": {
        "background-color": "31af15d2-7e15-44c5-ab5e-e04b16a89eff",
        "id": "dc7afa04-bf90-40b1-82a5-726e3cff5267"
       }
      },
      "id": "aee8a4f2-6650-4ae5-81a2-ed1ed80c98b0",
      "palette": {
       "19cc588f-0593-49c9-9f4b-e4d7cc113b1c": {
        "id": "19cc588f-0593-49c9-9f4b-e4d7cc113b1c",
        "rgb": [
         252,
         252,
         252
        ]
       },
       "31af15d2-7e15-44c5-ab5e-e04b16a89eff": {
        "id": "31af15d2-7e15-44c5-ab5e-e04b16a89eff",
        "rgb": [
         68,
         68,
         68
        ]
       },
       "50f92c45-a630-455b-aec3-788680ec7410": {
        "id": "50f92c45-a630-455b-aec3-788680ec7410",
        "rgb": [
         197,
         226,
         245
        ]
       },
       "c5cc3653-2ee1-402a-aba2-7caae1da4f6c": {
        "id": "c5cc3653-2ee1-402a-aba2-7caae1da4f6c",
        "rgb": [
         43,
         126,
         184
        ]
       },
       "efa7f048-9acb-414c-8b04-a26811511a21": {
        "id": "efa7f048-9acb-414c-8b04-a26811511a21",
        "rgb": [
         25.118061674008803,
         73.60176211453744,
         107.4819383259912
        ]
       }
      },
      "rules": {
       "a": {
        "color": "19cc588f-0593-49c9-9f4b-e4d7cc113b1c"
       },
       "blockquote": {
        "color": "50f92c45-a630-455b-aec3-788680ec7410",
        "font-size": 3
       },
       "code": {
        "font-family": "Anonymous Pro"
       },
       "h1": {
        "color": "19cc588f-0593-49c9-9f4b-e4d7cc113b1c",
        "font-family": "Merriweather",
        "font-size": 8
       },
       "h2": {
        "color": "19cc588f-0593-49c9-9f4b-e4d7cc113b1c",
        "font-family": "Merriweather",
        "font-size": 6
       },
       "h3": {
        "color": "50f92c45-a630-455b-aec3-788680ec7410",
        "font-family": "Lato",
        "font-size": 5.5
       },
       "h4": {
        "color": "c5cc3653-2ee1-402a-aba2-7caae1da4f6c",
        "font-family": "Lato",
        "font-size": 5
       },
       "h5": {
        "font-family": "Lato"
       },
       "h6": {
        "font-family": "Lato"
       },
       "h7": {
        "font-family": "Lato"
       },
       "li": {
        "color": "50f92c45-a630-455b-aec3-788680ec7410",
        "font-size": 3.25
       },
       "pre": {
        "font-family": "Anonymous Pro",
        "font-size": 4
       }
      },
      "text-base": {
       "color": "19cc588f-0593-49c9-9f4b-e4d7cc113b1c",
       "font-family": "Lato",
       "font-size": 4
      }
     }
    }
   }
  }
 },
 "nbformat": 4,
 "nbformat_minor": 2
}
